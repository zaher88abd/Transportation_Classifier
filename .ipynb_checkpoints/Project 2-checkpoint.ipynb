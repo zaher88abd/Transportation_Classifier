{
 "cells": [
  {
   "cell_type": "code",
   "execution_count": 1,
   "metadata": {},
   "outputs": [],
   "source": [
    "import pandas as pd\n",
    "import numpy as np\n",
    "import matplotlib as plt\n",
    "from geopy.distance import vincenty\n",
    "from math import *\n",
    "from datetime import datetime\n",
    "\n",
    "%matplotlib inline\n"
   ]
  },
  {
   "cell_type": "code",
   "execution_count": 2,
   "metadata": {},
   "outputs": [],
   "source": [
    "# read the data from CSV file\n",
    "all_data =pd.DataFrame(data=pd.read_csv('D:\\Class\\CSCI6515MLBigData\\A2\\geolife_raw.csv'))\n",
    "\n",
    "# Put data in different virable to controll the size of it\n",
    "data_frame = all_data\n",
    "\n",
    "# Limatation o\n",
    "limet=10"
   ]
  },
  {
   "cell_type": "code",
   "execution_count": 3,
   "metadata": {},
   "outputs": [],
   "source": [
    "# Delete extra class from the data fram\n",
    "def delete_class(df,class_todelete):\n",
    "    for c in class_todelete:\n",
    "        class_data=df.index[df.transportation_mode==c]\n",
    "        df=df.drop(df.index[class_data])\n",
    "    return df\n",
    "\n",
    "data_frame=delete_class(data_frame,[\"motorcycle\",\"run\"])\n"
   ]
  },
  {
   "cell_type": "code",
   "execution_count": 4,
   "metadata": {
    "scrolled": true
   },
   "outputs": [],
   "source": [
    "# Split the collected_time to col new_date and new_time\n",
    "#  Delete the col collected_time\n",
    "data_date=pd.to_datetime(data_frame.loc[:,\"collected_time\"])\n",
    "data_frame = data_frame.drop(\"collected_time\", axis=1)\n",
    "date_val = [d.date() for d in data_date]\n",
    "time_val = [d.time() for d in data_date]\n",
    "data_frame['new_date'] = date_val # The day \n",
    "data_frame['new_time'] = time_val # the time\n",
    "\n",
    "# sort the data \n",
    "data_frame = data_frame.sort_values([\"t_user_id\", \"new_date\", \"new_time\"])\n",
    "# Change orgnizing of the columns\n",
    "data_frame=data_frame[[\"t_user_id\",\"new_date\",\"transportation_mode\",\"new_time\",\"latitude\",\"longitude\"]] \n"
   ]
  },
  {
   "cell_type": "code",
   "execution_count": 5,
   "metadata": {
    "scrolled": false
   },
   "outputs": [],
   "source": [
    "# Group the data by the \n",
    "user=data_frame.groupby([data_frame.t_user_id,data_frame.new_date])\n",
    "df=pd.DataFrame(data=np.array(user))"
   ]
  },
  {
   "cell_type": "code",
   "execution_count": 6,
   "metadata": {
    "scrolled": false
   },
   "outputs": [],
   "source": [
    "# df=pd.DataFrame(data=np.array(user))\n",
    "# # print(df.iloc[0,1])\n",
    "# arr=pd.DataFrame(df.iloc[0,1])\n",
    "# print(arr.shape)\n",
    "# print(arr)"
   ]
  },
  {
   "cell_type": "code",
   "execution_count": 7,
   "metadata": {
    "scrolled": false
   },
   "outputs": [],
   "source": [
    "# Horizontal Bearing return value in degrees\n",
    "def calcBearing(p1, p2):\n",
    "    lat1 = p1[0]\n",
    "    lon1 = p1[1]\n",
    "    lat2 = p2[0]\n",
    "    lon2 = p2[1]\n",
    "    dLon = lon2 - lon1\n",
    "    y = sin(dLon) * cos(lat2)\n",
    "    x = cos(lat1) * sin(lat2) - sin(lat1) * cos(lat2) * cos(dLon)\n",
    "    bearing = degrees(atan2(y, x))\n",
    "    return bearing\n",
    "\n",
    "\n",
    "# Get hours\n",
    "def get_hour(time):\n",
    "    h, m, s = str(time).split(':')\n",
    "    result = int(h) + (int(m) / 60) + (int(s) / 3600)\n",
    "    if result == 0:\n",
    "        result = 1 / 3600\n",
    "    return result\n",
    "\n",
    "\n",
    "# Get hours\n",
    "def get_second(time):\n",
    "    h, m, s = str(time).split(':')\n",
    "    result = int(h) * 3600 + (int(m) * 60) + (int(s))\n",
    "    if result == 0:\n",
    "        result = 1\n",
    "    return result\n",
    "\n",
    "\n",
    "# cal_subtraj_features\n",
    "# Calculate the Distance, Speed, Acceleration, Bearing for the sub_traj\n",
    "def cal_subtraj_features(subtraj):\n",
    "    last_acceleration = 0\n",
    "    result = list()\n",
    "    for i in range(1, len(subtraj)):\n",
    "        # Start point\n",
    "        p1_lat = subtraj[i - 1, 4]\n",
    "        p1_log = subtraj[i - 1, 5]\n",
    "        p1 = (p1_lat, p1_log)\n",
    "        # End point\n",
    "        p2_lat = subtraj[i, 4]\n",
    "        p2_log = subtraj[i, 5]\n",
    "        p2 = (p2_lat, p2_log)\n",
    "\n",
    "        # Calculate the distance in KM\n",
    "        distance = (vincenty(p1, p2).meters)/1000\n",
    "\n",
    "        # Calculate the diffrence between the times of to point\n",
    "        t1 = str(subtraj[i - 1, 3])\n",
    "        t2 = str(subtraj[i, 3])\n",
    "        FMT = '%H:%M:%S'\n",
    "        if datetime.strptime(t2, FMT) > datetime.strptime(t1, FMT):\n",
    "            tdelta = datetime.strptime(t2, FMT) - datetime.strptime(t1, FMT)\n",
    "        else:\n",
    "            tdelta = datetime.strptime(t2, FMT) - datetime.strptime(t1, FMT)\n",
    "\n",
    "        tdelta = datetime.strptime(str(tdelta), FMT).time()\n",
    "\n",
    "        # Cal Speed by Km/h\n",
    "        speed = distance / get_hour(tdelta)\n",
    "\n",
    "        # Cal Acceleration Km/h\n",
    "        acceleration = abs(speed - last_acceleration) / get_second(tdelta)\n",
    "        last_acceleration = acceleration\n",
    "\n",
    "        # Calculate the Bearing Degrees\n",
    "        bearing = calcBearing(p1, p2)\n",
    "\n",
    "        result.append(np.array([distance, speed, acceleration, bearing]))\n",
    "\n",
    "    return pd.DataFrame(result)\n"
   ]
  },
  {
   "cell_type": "code",
   "execution_count": 8,
   "metadata": {
    "scrolled": false
   },
   "outputs": [],
   "source": [
    "# Feature data\n",
    "# input sub_traj_data and calculate the feature\n",
    "# distance, speed, acceleration, bearing\n",
    "\n",
    "def get_feature_data(_class, sub_traj_data):\n",
    "    row_list = list()\n",
    "    describe_data = sub_traj_data.describe()\n",
    "    describe_data.loc[len(describe_data)] = sub_traj_data.median(axis=0)\n",
    "\n",
    "    row_list.append(_class)\n",
    "    for i in range(len(describe_data.iloc[0])):\n",
    "        col = describe_data.iloc[:, i]\n",
    "        row_list.append(col[1])\n",
    "        row_list.append(col[2])\n",
    "        row_list.append(col[8])\n",
    "        row_list.append(col[3])\n",
    "        row_list.append(col[7])\n",
    "    return (row_list)\n",
    "    "
   ]
  },
  {
   "cell_type": "code",
   "execution_count": 9,
   "metadata": {},
   "outputs": [],
   "source": [
    "# user_day_traj\n",
    "# get user day traj and split to by transportation class\n",
    "# return feature description for each sub_traj\n",
    "def user_day_traj(user_day):\n",
    "    _class = user_day.iloc[0, 2]  # first class\n",
    "    sub_traj = list()  # list to save data for one class\n",
    "    result = list()  # list to save final result\n",
    "    for i in range(0, len(user_day)):\n",
    "        # add data of same class to the sub_traj\n",
    "        if (_class == user_day.iloc[i, 2]):\n",
    "            sub_traj.append(user_day.iloc[i])\n",
    "        else:\n",
    "            # append the feature data for the class\n",
    "            feature_class = cal_subtraj_features(np.array(sub_traj))\n",
    "            if len(feature_class) >= limet:\n",
    "                feature_class = get_feature_data(_class, feature_class)\n",
    "                result.append(feature_class)\n",
    "\n",
    "            # change the class\n",
    "            _class = user_day.iloc[i, 2]\n",
    "            # empty the sub_traj\n",
    "            sub_traj = list()\n",
    "            sub_traj.append(user_day.iloc[i])\n",
    "    feature_class = cal_subtraj_features(np.array(sub_traj))\n",
    "    if len(feature_class) >= limet:\n",
    "        feature_class = get_feature_data(_class, feature_class)\n",
    "        result.append(feature_class)\n",
    "    return result\n"
   ]
  },
  {
   "cell_type": "code",
   "execution_count": 10,
   "metadata": {},
   "outputs": [],
   "source": [
    "# Creat the DataFram for all the UsersTraj\n",
    "# get Grouped data by (User_ID, Date)\n",
    "# return Datafrom for the Data\n",
    "def preprocess_data(all_groped_data):\n",
    "    # convert grouped data to data fram\n",
    "    df = pd.DataFrame(data=np.array(all_groped_data))\n",
    "    result = list()\n",
    "    # for each \n",
    "    for i in range(0, len(df)):\n",
    "        if i % 100 == 0:\n",
    "            print('-', sep=' ', end='', flush=True)\n",
    "        user_day = pd.DataFrame(df.iloc[i, 1])\n",
    "        if user_day.size >= limet:\n",
    "            user_day_feature = user_day_traj(user_day)\n",
    "            if len(user_day_feature) > 0:\n",
    "                for udf in user_day_feature:\n",
    "                    result.append(udf)\n",
    "    return pd.DataFrame(data=result, columns=[\n",
    "        \"trans_mode\", \"dis_mean\", \"dis_std\", \"dis_median\", \"dis_min\", \"dis_max\"\n",
    "        , \"spe_mean\", \"spe_std\", \"spe_median\", \"spe_min\", \"spe_max\"\n",
    "        , \"acc_mean\", \"acc_std\", \"acc_median\", \"acc_min\", \"acc_max\"\n",
    "        , \"bea_mean\", \"bea_std\", \"bea_median\", \"bea_min\", \"bea_max\"])"
   ]
  },
  {
   "cell_type": "code",
   "execution_count": null,
   "metadata": {},
   "outputs": [],
   "source": [
    "result=preprocess_data(df)"
   ]
  },
  {
   "cell_type": "code",
   "execution_count": null,
   "metadata": {
    "scrolled": false
   },
   "outputs": [],
   "source": [
    "print(result.shape)\n",
    "result.to_csv(r'result.csv',index=False)"
   ]
  },
  {
   "cell_type": "code",
   "execution_count": null,
   "metadata": {},
   "outputs": [],
   "source": []
  }
 ],
 "metadata": {
  "kernelspec": {
   "display_name": "Python 3",
   "language": "python",
   "name": "python3"
  },
  "language_info": {
   "codemirror_mode": {
    "name": "ipython",
    "version": 3
   },
   "file_extension": ".py",
   "mimetype": "text/x-python",
   "name": "python",
   "nbconvert_exporter": "python",
   "pygments_lexer": "ipython3",
   "version": "3.6.2"
  }
 },
 "nbformat": 4,
 "nbformat_minor": 2
}
